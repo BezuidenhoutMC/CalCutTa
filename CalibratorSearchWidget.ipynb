{
 "cells": [
  {
   "cell_type": "code",
   "execution_count": 1,
   "id": "64c9a2f4-d8ed-46c7-bb14-85f710d4003d",
   "metadata": {},
   "outputs": [
    {
     "data": {
      "text/plain": [
       "<module 'CalSearch' from '/Users/tiaan.bezuidenhout/Documents/Calibration_sources_sandbox/CalSearch.py'>"
      ]
     },
     "execution_count": 1,
     "metadata": {},
     "output_type": "execute_result"
    }
   ],
   "source": [
    "import ipywidgets as widgets\n",
    "from ipywidgets import interact, interactive, fixed\n",
    "import numpy as np\n",
    "\n",
    "import CalSearch as CS\n",
    "import importlib\n",
    "importlib.reload(CS)"
   ]
  },
  {
   "cell_type": "code",
   "execution_count": 2,
   "id": "83e0a2a2-0967-468e-93c0-b5eef298d52f",
   "metadata": {
    "jupyter": {
     "source_hidden": true
    }
   },
   "outputs": [],
   "source": [
    "button = widgets.Button(description=\"Run\")\n",
    "output = widgets.Output()\n",
    "loading_label = widgets.Label(value=\"\")\n",
    "\n",
    "catalog_text = widgets.Text(\n",
    "    value=\"J/other/PASA/38.58/galcut\",  # default value\n",
    "    description=\"Catalog:\",\n",
    "    placeholder=\"Enter vizier catalog name\"\n",
    ")\n",
    "flux_lim = widgets.Text(\n",
    "    value=\">500\",  # default value\n",
    "    description=\"Flux (mJy):\",\n",
    "    placeholder=\"Enter minimum flux\"\n",
    ")\n",
    "dec_lim = widgets.Text(\n",
    "    value=\"<30\",  # default value\n",
    "    description=\"Dec (deg):\",\n",
    "    placeholder=\"Enter Dec limit\"\n",
    ")\n",
    "\n",
    "flux_checkbox = widgets.Checkbox(\n",
    "    value=False,\n",
    "    description=\"Check F_pk/F_tot ~ 1?\",\n",
    "    indent=True\n",
    ")\n",
    "icrf3_checkbox = widgets.Checkbox(\n",
    "    value=False,\n",
    "    description=\"Compactness check (ICRF3)?\",\n",
    "    indent=True\n",
    ")\n",
    "\n",
    "demerit_checkbox = widgets.Checkbox(\n",
    "    value=False,\n",
    "    description=\"Dynamic range check?\",\n",
    "    indent=True\n",
    ")\n",
    "\n",
    "\n",
    "band_name = widgets.Text(\n",
    "    value=\"2\",  # default value\n",
    "    description=\"Band:\",\n",
    "    placeholder=\"Enter frequency band\",\n",
    "    disabled=True,\n",
    ")\n",
    "\n",
    "def toggle_band(change):\n",
    "    band_name.disabled = not change['new']\n",
    "\n",
    "def on_button_click(b):\n",
    "    loading_label.value = \"⏳ Loading, please wait...\"\n",
    "    with output:\n",
    "        output.clear_output()\n",
    "        CS.run_search(\n",
    "            catalog_text.value,           \n",
    "            Fpk=flux_lim.value,\n",
    "            DEJ2000=dec_lim.value,\n",
    "            check_fluxratio=flux_checkbox.value,\n",
    "            check_icrf3=icrf3_checkbox.value,\n",
    "            check_demerit=demerit_checkbox.value, band=band_name.value\n",
    "        )\n",
    "        loading_label.value = \"✅ Done!\"\n",
    "\n",
    "demerit_checkbox.observe(toggle_band, names='value')\n",
    "\n",
    "button.on_click(on_button_click)\n",
    "\n",
    "ui = widgets.VBox([catalog_text, flux_lim,dec_lim, flux_checkbox, icrf3_checkbox,demerit_checkbox, band_name, button, output])\n",
    "\n"
   ]
  },
  {
   "cell_type": "code",
   "execution_count": 3,
   "id": "f08e64d8-eef8-4955-bc11-67cef004b207",
   "metadata": {},
   "outputs": [
    {
     "data": {
      "application/vnd.jupyter.widget-view+json": {
       "model_id": "4f97ec0d58514e2797d410a8772b46a1",
       "version_major": 2,
       "version_minor": 0
      },
      "text/plain": [
       "VBox(children=(Text(value='J/other/PASA/38.58/galcut', description='Catalog:', placeholder='Enter vizier catal…"
      ]
     },
     "metadata": {},
     "output_type": "display_data"
    },
    {
     "data": {
      "application/vnd.jupyter.widget-view+json": {
       "model_id": "d1378d0686264c50a2b8d23d97b91b2c",
       "version_major": 2,
       "version_minor": 0
      },
      "text/plain": [
       "Label(value='')"
      ]
     },
     "metadata": {},
     "output_type": "display_data"
    }
   ],
   "source": [
    "display(ui,loading_label)\n"
   ]
  }
 ],
 "metadata": {
  "kernelspec": {
   "display_name": "Python [conda env:pulsar]",
   "language": "python",
   "name": "conda-env-pulsar-py"
  },
  "language_info": {
   "codemirror_mode": {
    "name": "ipython",
    "version": 3
   },
   "file_extension": ".py",
   "mimetype": "text/x-python",
   "name": "python",
   "nbconvert_exporter": "python",
   "pygments_lexer": "ipython3",
   "version": "3.12.11"
  }
 },
 "nbformat": 4,
 "nbformat_minor": 5
}
